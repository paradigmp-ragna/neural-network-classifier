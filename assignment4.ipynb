{
 "cells": [
  {
   "cell_type": "code",
   "execution_count": null,
   "id": "3995883f",
   "metadata": {},
   "outputs": [
    {
     "ename": "",
     "evalue": "",
     "output_type": "error",
     "traceback": [
      "\u001b[1;31mRunning cells with 'Python 3.11.9' requires the ipykernel package.\n",
      "\u001b[1;31m<a href='command:jupyter.createPythonEnvAndSelectController'>Create a Python Environment</a> with the required packages."
     ]
    }
   ],
   "source": [
    "import numpy as np\n",
    "import matplotlib.pyplot as plt"
   ]
  },
  {
   "cell_type": "code",
   "execution_count": null,
   "id": "d3f83ee2",
   "metadata": {},
   "outputs": [],
   "source": [
    "def get_data():\n",
    "    A = np.array([\n",
    "        0,1,1,1,0,\n",
    "        1,0,0,0,1,\n",
    "        1,1,1,1,1,\n",
    "        1,0,0,0,1,\n",
    "        1,0,0,0,1,\n",
    "        0,0,0,0,0\n",
    "    ])\n",
    "\n",
    "    B = np.array([\n",
    "        1,1,1,1,0,\n",
    "        1,0,0,0,1,\n",
    "        1,1,1,1,0,\n",
    "        1,0,0,0,1,\n",
    "        1,1,1,1,0,\n",
    "        0,0,0,0,0\n",
    "    ])\n",
    "\n",
    "    C = np.array([\n",
    "        0,1,1,1,1,\n",
    "        1,0,0,0,0,\n",
    "        1,0,0,0,0,\n",
    "        1,0,0,0,0,\n",
    "        0,1,1,1,1,\n",
    "        0,0,0,0,0\n",
    "    ])\n",
    "\n",
    "    X = np.array([A, B, C])\n",
    "    y = np.array([\n",
    "        [1, 0, 0],  # A\n",
    "        [0, 1, 0],  # B\n",
    "        [0, 0, 1]   # C\n",
    "    ])\n",
    "    return X, y\n",
    "\n",
    "X, y = get_data()\n"
   ]
  },
  {
   "cell_type": "code",
   "execution_count": null,
   "id": "66bbcf8a",
   "metadata": {},
   "outputs": [],
   "source": [
    "def sigmoid(x):\n",
    "    return 1 / (1 + np.exp(-x))\n",
    "\n",
    "def sigmoid_derivative(x):\n",
    "    return x * (1 - x)\n"
   ]
  },
  {
   "cell_type": "code",
   "execution_count": null,
   "id": "1a25f608",
   "metadata": {},
   "outputs": [],
   "source": [
    "class NeuralNetwork:\n",
    "    def __init__(self, input_size, hidden_size, output_size):\n",
    "        self.w1 = np.random.randn(input_size, hidden_size)\n",
    "        self.b1 = np.zeros((1, hidden_size))\n",
    "        self.w2 = np.random.randn(hidden_size, output_size)\n",
    "        self.b2 = np.zeros((1, output_size))\n",
    "\n",
    "    def forward(self, x):\n",
    "        self.z1 = x @ self.w1 + self.b1\n",
    "        self.a1 = sigmoid(self.z1)\n",
    "        self.z2 = self.a1 @ self.w2 + self.b2\n",
    "        self.a2 = sigmoid(self.z2)\n",
    "        return self.a2\n",
    "\n",
    "    def backward(self, x, y, lr):\n",
    "        output = self.a2\n",
    "        error = y - output\n",
    "        d_output = error * sigmoid_derivative(output)\n",
    "        error_hidden = d_output @ self.w2.T\n",
    "        d_hidden = error_hidden * sigmoid_derivative(self.a1)\n",
    "\n",
    "        # Update weights and biases\n",
    "        self.w2 += self.a1.T @ d_output * lr\n",
    "        self.b2 += np.sum(d_output, axis=0, keepdims=True) * lr\n",
    "        self.w1 += x.T @ d_hidden * lr\n",
    "        self.b1 += np.sum(d_hidden, axis=0, keepdims=True) * lr\n",
    "\n",
    "        return np.mean(np.square(error))  # Mean Squared Error\n"
   ]
  },
  {
   "cell_type": "code",
   "execution_count": null,
   "id": "2eec6fc4",
   "metadata": {},
   "outputs": [],
   "source": [
    "nn = NeuralNetwork(input_size=30, hidden_size=10, output_size=3)\n",
    "epochs = 1000\n",
    "learning_rate = 0.1\n",
    "losses = []\n",
    "\n",
    "for epoch in range(epochs):\n",
    "    nn.forward(X)\n",
    "    loss = nn.backward(X, y, learning_rate)\n",
    "    losses.append(loss)\n",
    "    if epoch % 100 == 0:\n",
    "        print(f\"Epoch {epoch}: Loss = {loss:.4f}\")"
   ]
  },
  {
   "cell_type": "code",
   "execution_count": null,
   "id": "20eb2610",
   "metadata": {},
   "outputs": [],
   "source": [
    "plt.plot(losses)\n",
    "plt.title(\"Loss over Epochs\")\n",
    "plt.xlabel(\"Epoch\")\n",
    "plt.ylabel(\"Loss\")\n",
    "plt.grid(True)\n",
    "plt.show()"
   ]
  },
  {
   "cell_type": "code",
   "execution_count": null,
   "id": "3dff6d56",
   "metadata": {},
   "outputs": [],
   "source": [
    "preds = nn.forward(X)\n",
    "\n",
    "for i in range(len(X)):\n",
    "    plt.imshow(X[i].reshape(6, 5), cmap='binary')\n",
    "    predicted_label = np.argmax(preds[i])\n",
    "    actual_label = np.argmax(y[i])\n",
    "    plt.title(f\"Predicted: {predicted_label}, Actual: {actual_label}\")\n",
    "    plt.axis('off')\n",
    "    plt.show()\n"
   ]
  }
 ],
 "metadata": {
  "kernelspec": {
   "display_name": "Python 3",
   "language": "python",
   "name": "python3"
  },
  "language_info": {
   "name": "python",
   "version": "3.11.9"
  }
 },
 "nbformat": 4,
 "nbformat_minor": 5
}
